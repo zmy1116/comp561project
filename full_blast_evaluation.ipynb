{
 "cells": [
  {
   "cell_type": "code",
   "execution_count": 25,
   "metadata": {},
   "outputs": [
    {
     "name": "stdout",
     "output_type": "stream",
     "text": [
      "The autoreload extension is already loaded. To reload it, use:\n",
      "  %reload_ext autoreload\n"
     ]
    },
    {
     "name": "stderr",
     "output_type": "stream",
     "text": [
      "In /home/NOBACKUP/mzhou3/ming_env/ming_env/lib/python3.7/site-packages/matplotlib/mpl-data/stylelib/_classic_test.mplstyle: \n",
      "The text.latex.preview rcparam was deprecated in Matplotlib 3.3 and will be removed two minor releases later.\n",
      "In /home/NOBACKUP/mzhou3/ming_env/ming_env/lib/python3.7/site-packages/matplotlib/mpl-data/stylelib/_classic_test.mplstyle: \n",
      "The mathtext.fallback_to_cm rcparam was deprecated in Matplotlib 3.3 and will be removed two minor releases later.\n",
      "In /home/NOBACKUP/mzhou3/ming_env/ming_env/lib/python3.7/site-packages/matplotlib/mpl-data/stylelib/_classic_test.mplstyle: Support for setting the 'mathtext.fallback_to_cm' rcParam is deprecated since 3.3 and will be removed two minor releases later; use 'mathtext.fallback : 'cm' instead.\n",
      "In /home/NOBACKUP/mzhou3/ming_env/ming_env/lib/python3.7/site-packages/matplotlib/mpl-data/stylelib/_classic_test.mplstyle: \n",
      "The validate_bool_maybe_none function was deprecated in Matplotlib 3.3 and will be removed two minor releases later.\n",
      "In /home/NOBACKUP/mzhou3/ming_env/ming_env/lib/python3.7/site-packages/matplotlib/mpl-data/stylelib/_classic_test.mplstyle: \n",
      "The savefig.jpeg_quality rcparam was deprecated in Matplotlib 3.3 and will be removed two minor releases later.\n",
      "In /home/NOBACKUP/mzhou3/ming_env/ming_env/lib/python3.7/site-packages/matplotlib/mpl-data/stylelib/_classic_test.mplstyle: \n",
      "The keymap.all_axes rcparam was deprecated in Matplotlib 3.3 and will be removed two minor releases later.\n",
      "In /home/NOBACKUP/mzhou3/ming_env/ming_env/lib/python3.7/site-packages/matplotlib/mpl-data/stylelib/_classic_test.mplstyle: \n",
      "The animation.avconv_path rcparam was deprecated in Matplotlib 3.3 and will be removed two minor releases later.\n",
      "In /home/NOBACKUP/mzhou3/ming_env/ming_env/lib/python3.7/site-packages/matplotlib/mpl-data/stylelib/_classic_test.mplstyle: \n",
      "The animation.avconv_args rcparam was deprecated in Matplotlib 3.3 and will be removed two minor releases later.\n"
     ]
    }
   ],
   "source": [
    "%load_ext autoreload\n",
    "%autoreload 2\n",
    "import time\n",
    "import pickle\n",
    "from src.blast.eval import compute_performance\n",
    "from src.blast.complete_blast import blast, DEFAULT_BLAST_ARGS\n",
    "import pandas as pd\n",
    "from multiprocessing.pool import Pool\n",
    "from matplotlib import pyplot as plt"
   ]
  },
  {
   "cell_type": "code",
   "execution_count": 46,
   "metadata": {},
   "outputs": [],
   "source": [
    "def evaluate_one_case(case):\n",
    "    query = case['query']\n",
    "    correct_range =  case['pos'],  case['pos']+99\n",
    "    out = blast(query, reference_matrix_path, **DEFAULT_BLAST_ARGS)\n",
    "    case['result'] = out\n",
    "    out = case['result']\n",
    "    case['performance'] = compute_performance(correct_range, out)\n",
    "    return case\n",
    "\n",
    "def evaluate_one_case_500(case):\n",
    "    \n",
    "    query = case['query']\n",
    "    correct_range =  case['pos'],  case['pos']+499\n",
    "    out = blast(query, reference_matrix_path, **DEFAULT_BLAST_ARGS)\n",
    "    case['result'] = out\n",
    "    out = case['result']\n",
    "    case['performance'] = compute_performance(correct_range, out)\n",
    "    return case\n",
    "    "
   ]
  },
  {
   "cell_type": "markdown",
   "metadata": {},
   "source": [
    "# load data"
   ]
  },
  {
   "cell_type": "code",
   "execution_count": 34,
   "metadata": {},
   "outputs": [],
   "source": [
    "data = pickle.load(open('src/data/full_cases_tests.p', 'rb'))\n",
    "simple_examples = data['simple_examples']\n",
    "complex_examples = data['complex_examples']\n",
    "complex_examples_500 = data['complex_examples_500']"
   ]
  },
  {
   "cell_type": "markdown",
   "metadata": {},
   "source": [
    "# Run"
   ]
  },
  {
   "cell_type": "code",
   "execution_count": 15,
   "metadata": {},
   "outputs": [
    {
     "name": "stdout",
     "output_type": "stream",
     "text": [
      "725.9025232791901\n"
     ]
    }
   ],
   "source": [
    "s = time.time()\n",
    "pool = Pool(processes=20)\n",
    "complex_examples_result = pool.map(evaluate_one_case, complex_examples)\n",
    "t = time.time()\n",
    "pool.terminate()\n",
    "print(t-s)\n"
   ]
  },
  {
   "cell_type": "code",
   "execution_count": 36,
   "metadata": {},
   "outputs": [
    {
     "name": "stdout",
     "output_type": "stream",
     "text": [
      "727.5983283519745\n"
     ]
    }
   ],
   "source": [
    "s = time.time()\n",
    "pool = Pool(processes=20)\n",
    "simple_examples_result = pool.map(evaluate_one_case, simple_examples)\n",
    "t = time.time()\n",
    "pool.terminate()\n",
    "print(t-s)\n"
   ]
  },
  {
   "cell_type": "code",
   "execution_count": 39,
   "metadata": {},
   "outputs": [
    {
     "name": "stdout",
     "output_type": "stream",
     "text": [
      "6171.8895564079285\n"
     ]
    }
   ],
   "source": [
    "s = time.time()\n",
    "pool = Pool(processes=20)\n",
    "complex_examples_500_result = pool.map(evaluate_one_case, complex_examples_500)\n",
    "t = time.time()\n",
    "pool.terminate()\n",
    "print(t-s)\n"
   ]
  },
  {
   "cell_type": "code",
   "execution_count": 37,
   "metadata": {},
   "outputs": [],
   "source": [
    "difficulties= {\n",
    "    0: 'very_hard',\n",
    "    1: 'hard',\n",
    "    2: 'intermediate',\n",
    "    3: 'easy',\n",
    "}\n",
    "\n",
    "for idx, entry in enumerate(complex_examples_result):\n",
    "    d = difficulties[idx//100]\n",
    "    entry['difficulty'] = d\n",
    "\n",
    "for idx, entry in enumerate(simple_examples_result):\n",
    "    d = difficulties[idx//100]\n",
    "    entry['difficulty'] = d"
   ]
  },
  {
   "cell_type": "code",
   "execution_count": 40,
   "metadata": {},
   "outputs": [],
   "source": [
    "for idx, entry in enumerate(complex_examples_500_result):\n",
    "    d = difficulties[idx//100]\n",
    "    entry['difficulty'] = d"
   ]
  },
  {
   "cell_type": "code",
   "execution_count": 23,
   "metadata": {},
   "outputs": [],
   "source": [
    "def show_result(outputs):\n",
    "    \n",
    "    very_hard_entries = [x for x in outputs if x['difficulty']=='very_hard']\n",
    "    hard_entries = [x for x in outputs if x['difficulty']=='hard']\n",
    "    intermediate_entries = [x for x in outputs if x['difficulty']=='intermediate']\n",
    "    easy_entries = [x for x in outputs if x['difficulty']=='easy']\n",
    "    seed_hits_cases = [len([x for x in  very_hard_entries if x['performance']['seed_match_rate'] >0]) /len(very_hard_entries),\n",
    "    len([x for x in  hard_entries if x['performance']['seed_match_rate'] >0]) /len(hard_entries),\n",
    "    len([x for x in  intermediate_entries if x['performance']['seed_match_rate'] >0]) /len(intermediate_entries),\n",
    "    len([x for x in  easy_entries if x['performance']['seed_match_rate'] >0]) /len(easy_entries)]\n",
    "\n",
    "    very_hard_entries_hit = very_hard_entries\n",
    "    hard_entries_hit = hard_entries\n",
    "    intermediate_entries_hit = intermediate_entries\n",
    "    easy_entries_hit = easy_entries\n",
    "\n",
    "\n",
    "    top1_iou = [\n",
    "        [x['performance']['top1_iou'] for x in very_hard_entries_hit],\n",
    "        [x['performance']['top1_iou'] for x in hard_entries_hit],\n",
    "        [x['performance']['top1_iou'] for x in intermediate_entries_hit],\n",
    "        [x['performance']['top1_iou'] for x in easy_entries_hit]\n",
    "    ]\n",
    "\n",
    "    top5_iou = [\n",
    "        [x['performance']['top5_iou'] for x in very_hard_entries_hit],\n",
    "        [x['performance']['top5_iou'] for x in hard_entries_hit],\n",
    "        [x['performance']['top5_iou'] for x in intermediate_entries_hit],\n",
    "        [x['performance']['top5_iou'] for x in easy_entries_hit]\n",
    "    ]\n",
    "\n",
    "    top10_iou = [\n",
    "        [x['performance']['top10_iou'] for x in very_hard_entries_hit],\n",
    "        [x['performance']['top10_iou'] for x in hard_entries_hit],\n",
    "        [x['performance']['top10_iou'] for x in intermediate_entries_hit],\n",
    "        [x['performance']['top10_iou'] for x in easy_entries_hit]\n",
    "    ]\n",
    "\n",
    "    auc_iou = [\n",
    "        [x['performance']['relevant_irelevant_auc'] for x in very_hard_entries_hit],\n",
    "        [x['performance']['relevant_irelevant_auc'] for x in hard_entries_hit],\n",
    "        [x['performance']['relevant_irelevant_auc'] for x in intermediate_entries_hit],\n",
    "        [x['performance']['relevant_irelevant_auc'] for x in easy_entries_hit]\n",
    "    ]\n",
    "    \n",
    "    top1_iou_mean = [np.mean(x) for x in top1_iou]\n",
    "    top5_iou_mean = [np.mean(x) for x in top5_iou]\n",
    "    top10_iou_mean = [np.mean(x) for x in top10_iou]\n",
    "    auc_mean = [np.mean(x) for x in auc_iou]\n",
    "    \n",
    "        \n",
    "    top1_iou_mean1 = [np.mean([y for y in x if y>0]) for x in top1_iou]\n",
    "    top5_iou_mean1 = [np.mean([y for y in x if y>0]) for x in top5_iou ]\n",
    "    top10_iou_mean1 = [np.mean([y for y in x if y>0]) for x in top10_iou ]\n",
    "    auc_mean1 = [np.mean([y for y in x if y>0]) for x in auc_iou]\n",
    "\n",
    "    \n",
    "    out = np.array([top1_iou_mean, top5_iou_mean, top10_iou_mean,auc_mean, top1_iou_mean1, top5_iou_mean1, top10_iou_mean1, auc_mean1]).T\n",
    "    out = pd.DataFrame(list(out), columns= ['Top1 IOU', 'Top 5 IOU', 'Top 10 IOU', 'AUC', 'Top1 IOU > 0', 'Top 5 IOU > 0', 'Top 10 IOU > 0', 'AUC > 0'], index=['Very Hard', 'Hard', 'Intermediate','Easy'])\n",
    "    plt.boxplot(top1_iou)\n",
    "    plt.xticks([1,2,3,4], ['Very Hard', 'Hard', 'Intermediate', 'Easy'])\n",
    "    plt.title('Best score result IOU')\n",
    "    plt.show()\n",
    "\n",
    "    plt.boxplot(top5_iou)\n",
    "    plt.xticks([1,2,3,4], ['Very Hard', 'Hard', 'Intermediate', 'Easy'])\n",
    "    plt.title('Best score result Top 5 IOU')\n",
    "    plt.show()\n",
    "    \n",
    "    plt.boxplot(top10_iou)\n",
    "    plt.xticks([1,2,3,4], ['Very Hard', 'Hard', 'Intermediate', 'Easy'])\n",
    "    plt.title('Best score result Top 10 IOU')\n",
    "    plt.show()\n",
    "    \n",
    "    plt.boxplot(auc_iou)\n",
    "    plt.xticks([1,2,3,4], ['Very Hard', 'Hard', 'Intermediate', 'Easy'])\n",
    "    plt.title('Relevance AUC')\n",
    "    plt.show()\n",
    "    \n",
    "    \n",
    "    return out"
   ]
  },
  {
   "cell_type": "markdown",
   "metadata": {},
   "source": [
    "# Result evaluation"
   ]
  },
  {
   "cell_type": "markdown",
   "metadata": {},
   "source": [
    "## Simple cases"
   ]
  },
  {
   "cell_type": "code",
   "execution_count": 38,
   "metadata": {},
   "outputs": [
    {
     "data": {
      "image/png": "[encoded data removed]",
      "text/plain": [
       "<Figure size 432x288 with 1 Axes>"
      ]
     },
     "metadata": {
      "needs_background": "light"
     },
     "output_type": "display_data"
    },
    {
     "data": {
      "image/png": "[encoded data removed]",
      "text/plain": [
       "<Figure size 432x288 with 1 Axes>"
      ]
     },
     "metadata": {
      "needs_background": "light"
     },
     "output_type": "display_data"
    },
    {
     "data": {
      "image/png": "[encoded data removed]",
      "text/plain": [
       "<Figure size 432x288 with 1 Axes>"
      ]
     },
     "metadata": {
      "needs_background": "light"
     },
     "output_type": "display_data"
    },
    {
     "data": {
      "image/png": "[encoded data removed]",
      "text/plain": [
       "<Figure size 432x288 with 1 Axes>"
      ]
     },
     "metadata": {
      "needs_background": "light"
     },
     "output_type": "display_data"
    },
    {
     "data": {
      "text/html": [
       "<div>\n",
       "<style scoped>\n",
       "    .dataframe tbody tr th:only-of-type {\n",
       "        vertical-align: middle;\n",
       "    }\n",
       "\n",
       "    .dataframe tbody tr th {\n",
       "        vertical-align: top;\n",
       "    }\n",
       "\n",
       "    .dataframe thead th {\n",
       "        text-align: right;\n",
       "    }\n",
       "</style>\n",
       "<table border=\"1\" class=\"dataframe\">\n",
       "  <thead>\n",
       "    <tr style=\"text-align: right;\">\n",
       "      <th></th>\n",
       "      <th>Top1 IOU</th>\n",
       "      <th>Top 5 IOU</th>\n",
       "      <th>Top 10 IOU</th>\n",
       "      <th>AUC</th>\n",
       "      <th>Top1 IOU &gt; 0</th>\n",
       "      <th>Top 5 IOU &gt; 0</th>\n",
       "      <th>Top 10 IOU &gt; 0</th>\n",
       "      <th>AUC &gt; 0</th>\n",
       "    </tr>\n",
       "  </thead>\n",
       "  <tbody>\n",
       "    <tr>\n",
       "      <th>Very Hard</th>\n",
       "      <td>0.890303</td>\n",
       "      <td>0.910303</td>\n",
       "      <td>0.910303</td>\n",
       "      <td>0.917949</td>\n",
       "      <td>0.989226</td>\n",
       "      <td>0.989460</td>\n",
       "      <td>0.989460</td>\n",
       "      <td>0.976541</td>\n",
       "    </tr>\n",
       "    <tr>\n",
       "      <th>Hard</th>\n",
       "      <td>0.989704</td>\n",
       "      <td>0.989704</td>\n",
       "      <td>0.989704</td>\n",
       "      <td>0.981970</td>\n",
       "      <td>0.999701</td>\n",
       "      <td>0.999701</td>\n",
       "      <td>0.999701</td>\n",
       "      <td>0.991889</td>\n",
       "    </tr>\n",
       "    <tr>\n",
       "      <th>Intermediate</th>\n",
       "      <td>0.999900</td>\n",
       "      <td>0.999900</td>\n",
       "      <td>0.999900</td>\n",
       "      <td>0.994629</td>\n",
       "      <td>0.999900</td>\n",
       "      <td>0.999900</td>\n",
       "      <td>0.999900</td>\n",
       "      <td>0.994629</td>\n",
       "    </tr>\n",
       "    <tr>\n",
       "      <th>Easy</th>\n",
       "      <td>0.999901</td>\n",
       "      <td>0.999901</td>\n",
       "      <td>0.999901</td>\n",
       "      <td>0.999290</td>\n",
       "      <td>0.999901</td>\n",
       "      <td>0.999901</td>\n",
       "      <td>0.999901</td>\n",
       "      <td>0.999290</td>\n",
       "    </tr>\n",
       "  </tbody>\n",
       "</table>\n",
       "</div>"
      ],
      "text/plain": [
       "              Top1 IOU  Top 5 IOU  Top 10 IOU       AUC  Top1 IOU > 0  \\\n",
       "Very Hard     0.890303   0.910303    0.910303  0.917949      0.989226   \n",
       "Hard          0.989704   0.989704    0.989704  0.981970      0.999701   \n",
       "Intermediate  0.999900   0.999900    0.999900  0.994629      0.999900   \n",
       "Easy          0.999901   0.999901    0.999901  0.999290      0.999901   \n",
       "\n",
       "              Top 5 IOU > 0  Top 10 IOU > 0   AUC > 0  \n",
       "Very Hard          0.989460        0.989460  0.976541  \n",
       "Hard               0.999701        0.999701  0.991889  \n",
       "Intermediate       0.999900        0.999900  0.994629  \n",
       "Easy               0.999901        0.999901  0.999290  "
      ]
     },
     "execution_count": 38,
     "metadata": {},
     "output_type": "execute_result"
    }
   ],
   "source": [
    "show_result(simple_examples_result)"
   ]
  },
  {
   "cell_type": "markdown",
   "metadata": {},
   "source": [
    "## Complex cases"
   ]
  },
  {
   "cell_type": "code",
   "execution_count": 26,
   "metadata": {},
   "outputs": [
    {
     "data": {
      "image/png": "[encoded data removed]",
      "text/plain": [
       "<Figure size 432x288 with 1 Axes>"
      ]
     },
     "metadata": {
      "needs_background": "light"
     },
     "output_type": "display_data"
    },
    {
     "data": {
      "image/png": "[encoded data removed]",
      "text/plain": [
       "<Figure size 432x288 with 1 Axes>"
      ]
     },
     "metadata": {
      "needs_background": "light"
     },
     "output_type": "display_data"
    },
    {
     "data": {
      "image/png": "[encoded data removed]",
      "text/plain": [
       "<Figure size 432x288 with 1 Axes>"
      ]
     },
     "metadata": {
      "needs_background": "light"
     },
     "output_type": "display_data"
    },
    {
     "data": {
      "image/png": "[encoded data removed]",
      "text/plain": [
       "<Figure size 432x288 with 1 Axes>"
      ]
     },
     "metadata": {
      "needs_background": "light"
     },
     "output_type": "display_data"
    },
    {
     "data": {
      "text/html": [
       "<div>\n",
       "<style scoped>\n",
       "    .dataframe tbody tr th:only-of-type {\n",
       "        vertical-align: middle;\n",
       "    }\n",
       "\n",
       "    .dataframe tbody tr th {\n",
       "        vertical-align: top;\n",
       "    }\n",
       "\n",
       "    .dataframe thead th {\n",
       "        text-align: right;\n",
       "    }\n",
       "</style>\n",
       "<table border=\"1\" class=\"dataframe\">\n",
       "  <thead>\n",
       "    <tr style=\"text-align: right;\">\n",
       "      <th></th>\n",
       "      <th>Top1 IOU</th>\n",
       "      <th>Top 5 IOU</th>\n",
       "      <th>Top 10 IOU</th>\n",
       "      <th>AUC</th>\n",
       "      <th>Top1 IOU &gt; 0</th>\n",
       "      <th>Top 5 IOU &gt; 0</th>\n",
       "      <th>Top 10 IOU &gt; 0</th>\n",
       "      <th>AUC &gt; 0</th>\n",
       "    </tr>\n",
       "  </thead>\n",
       "  <tbody>\n",
       "    <tr>\n",
       "      <th>Very Hard</th>\n",
       "      <td>0.805611</td>\n",
       "      <td>0.815611</td>\n",
       "      <td>0.815611</td>\n",
       "      <td>0.815033</td>\n",
       "      <td>0.994582</td>\n",
       "      <td>0.994648</td>\n",
       "      <td>0.994648</td>\n",
       "      <td>0.981967</td>\n",
       "    </tr>\n",
       "    <tr>\n",
       "      <th>Hard</th>\n",
       "      <td>0.997240</td>\n",
       "      <td>0.997240</td>\n",
       "      <td>0.997339</td>\n",
       "      <td>0.996826</td>\n",
       "      <td>0.997240</td>\n",
       "      <td>0.997240</td>\n",
       "      <td>0.997339</td>\n",
       "      <td>0.996826</td>\n",
       "    </tr>\n",
       "    <tr>\n",
       "      <th>Intermediate</th>\n",
       "      <td>0.998246</td>\n",
       "      <td>0.998246</td>\n",
       "      <td>0.998246</td>\n",
       "      <td>0.993956</td>\n",
       "      <td>0.998246</td>\n",
       "      <td>0.998246</td>\n",
       "      <td>0.998246</td>\n",
       "      <td>0.993956</td>\n",
       "    </tr>\n",
       "    <tr>\n",
       "      <th>Easy</th>\n",
       "      <td>0.997509</td>\n",
       "      <td>0.997509</td>\n",
       "      <td>0.997509</td>\n",
       "      <td>0.999678</td>\n",
       "      <td>0.997509</td>\n",
       "      <td>0.997509</td>\n",
       "      <td>0.997509</td>\n",
       "      <td>0.999678</td>\n",
       "    </tr>\n",
       "  </tbody>\n",
       "</table>\n",
       "</div>"
      ],
      "text/plain": [
       "              Top1 IOU  Top 5 IOU  Top 10 IOU       AUC  Top1 IOU > 0  \\\n",
       "Very Hard     0.805611   0.815611    0.815611  0.815033      0.994582   \n",
       "Hard          0.997240   0.997240    0.997339  0.996826      0.997240   \n",
       "Intermediate  0.998246   0.998246    0.998246  0.993956      0.998246   \n",
       "Easy          0.997509   0.997509    0.997509  0.999678      0.997509   \n",
       "\n",
       "              Top 5 IOU > 0  Top 10 IOU > 0   AUC > 0  \n",
       "Very Hard          0.994648        0.994648  0.981967  \n",
       "Hard               0.997240        0.997339  0.996826  \n",
       "Intermediate       0.998246        0.998246  0.993956  \n",
       "Easy               0.997509        0.997509  0.999678  "
      ]
     },
     "execution_count": 26,
     "metadata": {},
     "output_type": "execute_result"
    }
   ],
   "source": [
    "show_result(complex_examples_result)"
   ]
  },
  {
   "cell_type": "markdown",
   "metadata": {},
   "source": [
    "## Complex cases 500 size"
   ]
  },
  {
   "cell_type": "code",
   "execution_count": 45,
   "metadata": {},
   "outputs": [
    {
     "data": {
      "image/png": "[encoded data removed]",
      "text/plain": [
       "<Figure size 432x288 with 1 Axes>"
      ]
     },
     "metadata": {
      "needs_background": "light"
     },
     "output_type": "display_data"
    },
    {
     "data": {
      "image/png": "[encoded data removed]",
      "text/plain": [
       "<Figure size 432x288 with 1 Axes>"
      ]
     },
     "metadata": {
      "needs_background": "light"
     },
     "output_type": "display_data"
    },
    {
     "data": {
      "image/png": "[encoded data removed]",
      "text/plain": [
       "<Figure size 432x288 with 1 Axes>"
      ]
     },
     "metadata": {
      "needs_background": "light"
     },
     "output_type": "display_data"
    },
    {
     "data": {
      "image/png": "[encoded data removed]",
      "text/plain": [
       "<Figure size 432x288 with 1 Axes>"
      ]
     },
     "metadata": {
      "needs_background": "light"
     },
     "output_type": "display_data"
    },
    {
     "data": {
      "text/html": [
       "<div>\n",
       "<style scoped>\n",
       "    .dataframe tbody tr th:only-of-type {\n",
       "        vertical-align: middle;\n",
       "    }\n",
       "\n",
       "    .dataframe tbody tr th {\n",
       "        vertical-align: top;\n",
       "    }\n",
       "\n",
       "    .dataframe thead th {\n",
       "        text-align: right;\n",
       "    }\n",
       "</style>\n",
       "<table border=\"1\" class=\"dataframe\">\n",
       "  <thead>\n",
       "    <tr style=\"text-align: right;\">\n",
       "      <th></th>\n",
       "      <th>Top1 IOU</th>\n",
       "      <th>Top 5 IOU</th>\n",
       "      <th>Top 10 IOU</th>\n",
       "      <th>AUC</th>\n",
       "      <th>Top1 IOU &gt; 0</th>\n",
       "      <th>Top 5 IOU &gt; 0</th>\n",
       "      <th>Top 10 IOU &gt; 0</th>\n",
       "      <th>AUC &gt; 0</th>\n",
       "    </tr>\n",
       "  </thead>\n",
       "  <tbody>\n",
       "    <tr>\n",
       "      <th>Very Hard</th>\n",
       "      <td>0.999120</td>\n",
       "      <td>0.999120</td>\n",
       "      <td>0.999120</td>\n",
       "      <td>1.0</td>\n",
       "      <td>0.999120</td>\n",
       "      <td>0.999120</td>\n",
       "      <td>0.999120</td>\n",
       "      <td>1.0</td>\n",
       "    </tr>\n",
       "    <tr>\n",
       "      <th>Hard</th>\n",
       "      <td>0.999263</td>\n",
       "      <td>0.999263</td>\n",
       "      <td>0.999263</td>\n",
       "      <td>1.0</td>\n",
       "      <td>0.999263</td>\n",
       "      <td>0.999263</td>\n",
       "      <td>0.999263</td>\n",
       "      <td>1.0</td>\n",
       "    </tr>\n",
       "    <tr>\n",
       "      <th>Intermediate</th>\n",
       "      <td>0.999680</td>\n",
       "      <td>0.999680</td>\n",
       "      <td>0.999680</td>\n",
       "      <td>1.0</td>\n",
       "      <td>0.999680</td>\n",
       "      <td>0.999680</td>\n",
       "      <td>0.999680</td>\n",
       "      <td>1.0</td>\n",
       "    </tr>\n",
       "    <tr>\n",
       "      <th>Easy</th>\n",
       "      <td>0.999403</td>\n",
       "      <td>0.999403</td>\n",
       "      <td>0.999403</td>\n",
       "      <td>1.0</td>\n",
       "      <td>0.999403</td>\n",
       "      <td>0.999403</td>\n",
       "      <td>0.999403</td>\n",
       "      <td>1.0</td>\n",
       "    </tr>\n",
       "  </tbody>\n",
       "</table>\n",
       "</div>"
      ],
      "text/plain": [
       "              Top1 IOU  Top 5 IOU  Top 10 IOU  AUC  Top1 IOU > 0  \\\n",
       "Very Hard     0.999120   0.999120    0.999120  1.0      0.999120   \n",
       "Hard          0.999263   0.999263    0.999263  1.0      0.999263   \n",
       "Intermediate  0.999680   0.999680    0.999680  1.0      0.999680   \n",
       "Easy          0.999403   0.999403    0.999403  1.0      0.999403   \n",
       "\n",
       "              Top 5 IOU > 0  Top 10 IOU > 0  AUC > 0  \n",
       "Very Hard          0.999120        0.999120      1.0  \n",
       "Hard               0.999263        0.999263      1.0  \n",
       "Intermediate       0.999680        0.999680      1.0  \n",
       "Easy               0.999403        0.999403      1.0  "
      ]
     },
     "execution_count": 45,
     "metadata": {},
     "output_type": "execute_result"
    }
   ],
   "source": [
    "show_result(complex_examples_500_result)"
   ]
  },
  {
   "cell_type": "code",
   "execution_count": null,
   "metadata": {},
   "outputs": [],
   "source": []
  }
 ],
 "metadata": {
  "kernelspec": {
   "display_name": "Python [conda env:ming_env] *",
   "language": "python",
   "name": "conda-env-ming_env-py"
  },
  "language_info": {
   "codemirror_mode": {
    "name": "ipython",
    "version": 3
   },
   "file_extension": ".py",
   "mimetype": "text/x-python",
   "name": "python",
   "nbconvert_exporter": "python",
   "pygments_lexer": "ipython3",
   "version": "3.7.11"
  }
 },
 "nbformat": 4,
 "nbformat_minor": 4
}
