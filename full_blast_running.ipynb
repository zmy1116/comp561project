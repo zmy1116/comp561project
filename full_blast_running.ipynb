{
 "cells": [
  {
   "cell_type": "code",
   "execution_count": 1,
   "metadata": {},
   "outputs": [
    {
     "name": "stderr",
     "output_type": "stream",
     "text": [
      "In /home/NOBACKUP/mzhou3/ming_env/ming_env/lib/python3.7/site-packages/matplotlib/mpl-data/stylelib/_classic_test.mplstyle: \n",
      "The text.latex.preview rcparam was deprecated in Matplotlib 3.3 and will be removed two minor releases later.\n",
      "In /home/NOBACKUP/mzhou3/ming_env/ming_env/lib/python3.7/site-packages/matplotlib/mpl-data/stylelib/_classic_test.mplstyle: \n",
      "The mathtext.fallback_to_cm rcparam was deprecated in Matplotlib 3.3 and will be removed two minor releases later.\n",
      "In /home/NOBACKUP/mzhou3/ming_env/ming_env/lib/python3.7/site-packages/matplotlib/mpl-data/stylelib/_classic_test.mplstyle: Support for setting the 'mathtext.fallback_to_cm' rcParam is deprecated since 3.3 and will be removed two minor releases later; use 'mathtext.fallback : 'cm' instead.\n",
      "In /home/NOBACKUP/mzhou3/ming_env/ming_env/lib/python3.7/site-packages/matplotlib/mpl-data/stylelib/_classic_test.mplstyle: \n",
      "The validate_bool_maybe_none function was deprecated in Matplotlib 3.3 and will be removed two minor releases later.\n",
      "In /home/NOBACKUP/mzhou3/ming_env/ming_env/lib/python3.7/site-packages/matplotlib/mpl-data/stylelib/_classic_test.mplstyle: \n",
      "The savefig.jpeg_quality rcparam was deprecated in Matplotlib 3.3 and will be removed two minor releases later.\n",
      "In /home/NOBACKUP/mzhou3/ming_env/ming_env/lib/python3.7/site-packages/matplotlib/mpl-data/stylelib/_classic_test.mplstyle: \n",
      "The keymap.all_axes rcparam was deprecated in Matplotlib 3.3 and will be removed two minor releases later.\n",
      "In /home/NOBACKUP/mzhou3/ming_env/ming_env/lib/python3.7/site-packages/matplotlib/mpl-data/stylelib/_classic_test.mplstyle: \n",
      "The animation.avconv_path rcparam was deprecated in Matplotlib 3.3 and will be removed two minor releases later.\n",
      "In /home/NOBACKUP/mzhou3/ming_env/ming_env/lib/python3.7/site-packages/matplotlib/mpl-data/stylelib/_classic_test.mplstyle: \n",
      "The animation.avconv_args rcparam was deprecated in Matplotlib 3.3 and will be removed two minor releases later.\n"
     ]
    }
   ],
   "source": [
    "%load_ext autoreload\n",
    "%autoreload 2\n",
    "    \n",
    "\n",
    "import pickle\n",
    "import numpy as np \n",
    "from matplotlib import pyplot as plt\n",
    "import itertools\n",
    "\n",
    "from src.utils.generate_query import generate_queries\n",
    "from src.blast.hashtable_generation_inference import consensus_seq_match"
   ]
  },
  {
   "cell_type": "code",
   "execution_count": 2,
   "metadata": {},
   "outputs": [],
   "source": [
    "entry = {'pos': 360468,\n",
    " 'query': 'TAAACCCCGGGCCATATTATGCTGGGAGGCTCACCTCTGTAATGTCGGGGTCTTGGAGGCTGAGGAGGTATTGCTTTGGGGAGTTCAAGCCCAGCCTGGG'}\n"
   ]
  },
  {
   "cell_type": "markdown",
   "metadata": {},
   "source": [
    "# Step 1 seed matching"
   ]
  },
  {
   "cell_type": "code",
   "execution_count": 22,
   "metadata": {},
   "outputs": [],
   "source": [
    "table_data = pickle.load(open('src/data/hashtable.p','rb'))\n",
    "label_pos = entry['pos']\n",
    "query = entry['query']    "
   ]
  },
  {
   "cell_type": "code",
   "execution_count": 27,
   "metadata": {},
   "outputs": [
    {
     "name": "stdout",
     "output_type": "stream",
     "text": [
      "{'query_idx': 3, 'seed_matching_result': {'ref_idx': 12257, 'score': 0}}\n"
     ]
    }
   ],
   "source": [
    "outputs_step1 = consensus_seq_match(table_data, query)\n",
    "\n",
    "print(outputs_step1[0])"
   ]
  },
  {
   "cell_type": "markdown",
   "metadata": {},
   "source": [
    "# Step 2 Ungapped extension"
   ]
  },
  {
   "cell_type": "code",
   "execution_count": 28,
   "metadata": {},
   "outputs": [],
   "source": [
    "from src.blast.ungapped_extension import ungapped_extension"
   ]
  },
  {
   "cell_type": "code",
   "execution_count": 29,
   "metadata": {},
   "outputs": [],
   "source": [
    "outputs_step2 = ungapped_extension(query, outputs_step1, 'src/data/reference_matrix.p', 11, 1, 'sum_proba_score_correct0')"
   ]
  },
  {
   "cell_type": "code",
   "execution_count": 30,
   "metadata": {},
   "outputs": [],
   "source": [
    "outputs_step2 = sorted(outputs_step2, key=lambda x:x['ungapped_extension_result']['score'] * -1)"
   ]
  },
  {
   "cell_type": "code",
   "execution_count": 37,
   "metadata": {
    "scrolled": true
   },
   "outputs": [
    {
     "name": "stdout",
     "output_type": "stream",
     "text": [
      "0: seed correct True,   scorre 7.33 ,   span 24  \n",
      "1: seed correct True,   scorre 6.42 ,   span 27  \n",
      "2: seed correct True,   scorre 5.68 ,   span 27  \n",
      "3: seed correct True,   scorre 5.68 ,   span 27  \n",
      "4: seed correct True,   scorre 4.86 ,   span 27  \n",
      "5: seed correct True,   scorre 4.58 ,   span 27  \n",
      "6: seed correct True,   scorre 3.62 ,   span 27  \n",
      "7: seed correct False,   scorre 2.92 ,   span 14  \n",
      "8: seed correct False,   scorre 2.92 ,   span 14  \n",
      "9: seed correct False,   scorre 2.88 ,   span 14  \n",
      "10: seed correct False,   scorre 2.88 ,   span 14  \n",
      "11: seed correct False,   scorre 2.88 ,   span 14  \n",
      "12: seed correct False,   scorre 2.68 ,   span 14  \n",
      "13: seed correct False,   scorre 2.64 ,   span 14  \n",
      "14: seed correct False,   scorre 2.08 ,   span 14  \n",
      "15: seed correct False,   scorre 1.97 ,   span 17  \n",
      "16: seed correct False,   scorre 1.59 ,   span 20  \n",
      "17: seed correct False,   scorre 0.98 ,   span 12  \n",
      "18: seed correct False,   scorre 0.98 ,   span 12  \n",
      "19: seed correct False,   scorre 0.98 ,   span 12  \n",
      "20: seed correct False,   scorre 0.96 ,   span 12  \n",
      "21: seed correct False,   scorre 0.96 ,   span 12  \n",
      "22: seed correct False,   scorre 0.96 ,   span 12  \n",
      "23: seed correct False,   scorre 0.96 ,   span 12  \n",
      "24: seed correct False,   scorre 0.96 ,   span 12  \n",
      "25: seed correct False,   scorre 0.96 ,   span 12  \n",
      "26: seed correct False,   scorre 0.96 ,   span 12  \n",
      "27: seed correct False,   scorre 0.96 ,   span 12  \n",
      "28: seed correct False,   scorre 0.96 ,   span 12  \n",
      "29: seed correct False,   scorre 0.96 ,   span 12  \n",
      "30: seed correct False,   scorre 0.96 ,   span 12  \n",
      "31: seed correct False,   scorre 0.96 ,   span 12  \n",
      "32: seed correct False,   scorre 0.96 ,   span 12  \n",
      "33: seed correct False,   scorre 0.96 ,   span 12  \n",
      "34: seed correct False,   scorre 0.96 ,   span 12  \n",
      "35: seed correct False,   scorre 0.93 ,   span 14  \n",
      "36: seed correct False,   scorre 0.74 ,   span 12  \n",
      "37: seed correct False,   scorre 0.7000000000000001 ,   span 12  \n",
      "38: seed correct False,   scorre 0.7000000000000001 ,   span 12  \n",
      "39: seed correct False,   scorre 0.66 ,   span 16  \n",
      "40: seed correct False,   scorre 0.22 ,   span 12  \n",
      "41: seed correct False,   scorre 0.16 ,   span 12  \n",
      "42: seed correct False,   scorre 0.08 ,   span 12  \n",
      "43: seed correct False,   scorre 0.08 ,   span 12  \n",
      "44: seed correct False,   scorre 0.0 ,   span 11  \n",
      "45: seed correct False,   scorre 0.0 ,   span 11  \n",
      "46: seed correct False,   scorre 0.0 ,   span 11  \n",
      "47: seed correct False,   scorre 0.0 ,   span 11  \n",
      "48: seed correct False,   scorre 0.0 ,   span 11  \n",
      "49: seed correct False,   scorre 0.0 ,   span 11  \n",
      "50: seed correct False,   scorre 0.0 ,   span 11  \n",
      "51: seed correct False,   scorre 0.0 ,   span 11  \n",
      "52: seed correct False,   scorre 0.0 ,   span 11  \n",
      "53: seed correct False,   scorre 0.0 ,   span 11  \n",
      "54: seed correct False,   scorre 0.0 ,   span 11  \n",
      "55: seed correct False,   scorre 0.0 ,   span 11  \n",
      "56: seed correct False,   scorre 0.0 ,   span 11  \n",
      "57: seed correct False,   scorre 0.0 ,   span 11  \n",
      "58: seed correct False,   scorre 0.0 ,   span 11  \n",
      "59: seed correct False,   scorre 0.0 ,   span 11  \n",
      "60: seed correct False,   scorre 0.0 ,   span 11  \n",
      "61: seed correct False,   scorre 0.0 ,   span 11  \n",
      "62: seed correct False,   scorre 0.0 ,   span 11  \n",
      "63: seed correct False,   scorre 0.0 ,   span 11  \n",
      "64: seed correct False,   scorre 0.0 ,   span 11  \n",
      "65: seed correct False,   scorre 0.0 ,   span 11  \n",
      "66: seed correct False,   scorre 0.0 ,   span 11  \n",
      "67: seed correct False,   scorre 0.0 ,   span 11  \n",
      "68: seed correct False,   scorre 0.0 ,   span 11  \n",
      "69: seed correct False,   scorre 0.0 ,   span 11  \n",
      "70: seed correct False,   scorre 0.0 ,   span 11  \n",
      "71: seed correct False,   scorre 0.0 ,   span 11  \n",
      "72: seed correct False,   scorre 0.0 ,   span 11  \n"
     ]
    }
   ],
   "source": [
    "for idx, entry in enumerate(outputs_step2):\n",
    "    \n",
    "    seed_correct = (entry['query_idx'] + label_pos) == entry['seed_matching_result']['ref_idx']\n",
    "    score = entry['ungapped_extension_result']['score']\n",
    "    span = entry['ungapped_extension_result']['query_right_idx']  - entry['ungapped_extension_result']['query_left_idx'] + 1\n",
    "    print('{3}: seed correct {0},   scorre {1} ,   span {2}  '.format(seed_correct, float(round(score,2)), span, idx))"
   ]
  },
  {
   "cell_type": "markdown",
   "metadata": {},
   "source": [
    "# Step 3 gapped extension"
   ]
  },
  {
   "cell_type": "code",
   "execution_count": 38,
   "metadata": {},
   "outputs": [],
   "source": [
    "from src.blast.gapped_extension_j import gapped_extension as gapped_extension_1\n",
    "from src.blast.gapped_extension_j_mingmodified import gapped_extension as gapped_extension_2\n"
   ]
  },
  {
   "cell_type": "code",
   "execution_count": 39,
   "metadata": {},
   "outputs": [],
   "source": [
    "gap_bias= -1\n",
    "gap_penalty = -100\n",
    "mismatch_score = 1\n",
    "score_method = \"sum_proba_score\"\n",
    "substitution_dict = {}\n"
   ]
  },
  {
   "cell_type": "code",
   "execution_count": 92,
   "metadata": {},
   "outputs": [],
   "source": [
    "outputs_step3 = gapped_extension_2(query, 'src/data/reference_matrix.p', outputs_step2, 'sum_proba_score', {}, -1, -1, 1)"
   ]
  },
  {
   "cell_type": "code",
   "execution_count": 96,
   "metadata": {},
   "outputs": [
    {
     "data": {
      "text/plain": [
       "{'query_idx': 78,\n",
       " 'seed_matching_result': {'ref_idx': 360546, 'score': 0},\n",
       " 'ungapped_extension_result': {'query_left_idx': 76,\n",
       "  'query_right_idx': 99,\n",
       "  'ref_left_idx': 360544,\n",
       "  'ref_right_idx': 360567,\n",
       "  'score': 7.326666666666666},\n",
       " 'gapped_extension_result': {'ref_left_idx': 360296,\n",
       "  'ref_right_idx': 360567,\n",
       "  'score': -135.6266666666667,\n",
       "  'left_alignment_result': {'ref_left_idx': 360296,\n",
       "   'ref_right_idx': 360543,\n",
       "   'score': -135.6266666666667,\n",
       "   'query_string': 'T-------------------------AA-ACC-CC----GGG--CC-----------ATATT----------ATG------CTG-----------------------------------GGAG-----------------------------------------------------------------------------GCTCACCTCTGTAATGTCGGGGTCTTGGAGGCTGAGGAGGTATTGCTT',\n",
       "   'ref_string': 'TAGAAGAAAAAAAAAATCCACAGCCAAATACCTCCTGCAGGGTACCAGTCAAGCTAAATATTCTTAGTATACATGAAGTATCTGATTACCAGAAGGTGGTTGCAAGTTTATCTTTTTTAGGAGTTCCAAGTAAAGCAATTAGGAAAACCAAGTATACCAGCAATTGAAAATGTAAACCCGGAGCCATAATAGGCTGGGTGGCTCACGTCTGTAATCCCTGCGTCTTGGAGGCTGAGGCGGGATTGGGG'},\n",
       "  'right_alignment_result': {'ref_left_idx': -1,\n",
       "   'ref_right_idx': -1,\n",
       "   'score': 0,\n",
       "   'query_string': '',\n",
       "   'ref_string': ''}}}"
      ]
     },
     "execution_count": 96,
     "metadata": {},
     "output_type": "execute_result"
    }
   ],
   "source": [
    "outputs_step3[0]"
   ]
  },
  {
   "cell_type": "markdown",
   "metadata": {},
   "source": [
    "test gapped extension method: old vs new"
   ]
  },
  {
   "cell_type": "code",
   "execution_count": 90,
   "metadata": {},
   "outputs": [],
   "source": [
    "test_case = [outputs_step2[4]]"
   ]
  },
  {
   "cell_type": "code",
   "execution_count": 86,
   "metadata": {},
   "outputs": [],
   "source": [
    "ungapped_dict = {(45, 71): [[[360513, 360539], 4.86]]}"
   ]
  },
  {
   "cell_type": "code",
   "execution_count": 89,
   "metadata": {},
   "outputs": [
    {
     "data": {
      "text/plain": [
       "[{'query_idx': 52,\n",
       "  'seed_matching_result': {'ref_idx': 360520, 'score': 0},\n",
       "  'ungapped_extension_result': {'query_left_idx': 45,\n",
       "   'query_right_idx': 71,\n",
       "   'ref_left_idx': 360513,\n",
       "   'ref_right_idx': 360539,\n",
       "   'score': 4.86},\n",
       "  'gapped_extension_result': {'ref_left_idx': 360296,\n",
       "   'ref_right_idx': 360567,\n",
       "   'score': -131.96000000000006,\n",
       "   'left_alignment_result': {'ref_left_idx': 360296,\n",
       "    'ref_right_idx': 360512,\n",
       "    'score': -146.74000000000004,\n",
       "    'query_string': 'T-------------------------AA-ACC-CC----GGG--CC-----------ATATT----------ATG------CTG-----------------------------------GGAG-----------------------------------------------------------------------------GCTCACCTCTGTAATGT',\n",
       "    'ref_string': 'TAGAAGAAAAAAAAAATCCACAGCCAAATACCTCCTGCAGGGTACCAGTCAAGCTAAATATTCTTAGTATACATGAAGTATCTGATTACCAGAAGGTGGTTGCAAGTTTATCTTTTTTAGGAGTTCCAAGTAAAGCAATTAGGAAAACCAAGTATACCAGCAATTGAAAATGTAAACCCGGAGCCATAATAGGCTGGGTGGCTCACGTCTGTAATCC'},\n",
       "   'right_alignment_result': {'ref_left_idx': 360540,\n",
       "    'ref_right_idx': 360567,\n",
       "    'score': 14.779999999999973,\n",
       "    'query_string': 'GCTTTGGGGAGTTCAAGCCCAGCCTGGG',\n",
       "    'ref_string': 'GGGGTTGGGAGTTCAAGACCAGCCTGGG'}}}]"
      ]
     },
     "execution_count": 89,
     "metadata": {},
     "output_type": "execute_result"
    }
   ],
   "source": [
    "gapped_extension_2(query, 'src/data/reference_matrix.p', test_case, 'sum_proba_score', {}, -1, -1, 1)"
   ]
  },
  {
   "cell_type": "code",
   "execution_count": 87,
   "metadata": {},
   "outputs": [
    {
     "data": {
      "text/plain": [
       "{(360296,\n",
       "  360567): ['T-------------------------AA-ACC-CC----GGG--CC-----------ATATT----------ATG------CTG-----------------------------------GGAG-----------------------------------------------------------------------------GCTCACCTCTGTAATGTCGGGGTCTTGGAGGCTGAGGAGGTATTGCTTTGGGGAGTTCAAGCCCAGCCTGGG', 'TAGAAGAAAAAAAAAATCCACAGCCAAATACCTCCTGCAGGGTACCAGTCAAGCTAAATATTCTTAGTATACATGAAGTATCTGATTACCAGAAGGTGGTTGCAAGTTTATCTTTTTTAGGAGTTCCAAGTAAAGCAATTAGGAAAACCAAGTATACCAGCAATTGAAAATGTAAACCCGGAGCCATAATAGGCTGGGTGGCTCACGTCTGTAATCCCTGCGTCTTGGAGGCTGAGGCGGGATTGGGGTTGGGAGTTCAAGACCAGCCTGGG', -127.10000000000005]}"
      ]
     },
     "execution_count": 87,
     "metadata": {},
     "output_type": "execute_result"
    }
   ],
   "source": [
    "gapped_extension_1(query, 'src/data/reference_matrix.p', ungapped_dict\n",
    "                    , 'sum_proba_score', {}, -1, -1, 1)"
   ]
  }
 ],
 "metadata": {
  "kernelspec": {
   "display_name": "Python [conda env:ming_env] *",
   "language": "python",
   "name": "conda-env-ming_env-py"
  },
  "language_info": {
   "codemirror_mode": {
    "name": "ipython",
    "version": 3
   },
   "file_extension": ".py",
   "mimetype": "text/x-python",
   "name": "python",
   "nbconvert_exporter": "python",
   "pygments_lexer": "ipython3",
   "version": "3.7.11"
  }
 },
 "nbformat": 4,
 "nbformat_minor": 4
}
