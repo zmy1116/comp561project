{
 "cells": [
  {
   "cell_type": "code",
   "execution_count": 1,
   "metadata": {},
   "outputs": [
    {
     "name": "stderr",
     "output_type": "stream",
     "text": [
      "In /home/NOBACKUP/mzhou3/ming_env/ming_env/lib/python3.7/site-packages/matplotlib/mpl-data/stylelib/_classic_test.mplstyle: \n",
      "The text.latex.preview rcparam was deprecated in Matplotlib 3.3 and will be removed two minor releases later.\n",
      "In /home/NOBACKUP/mzhou3/ming_env/ming_env/lib/python3.7/site-packages/matplotlib/mpl-data/stylelib/_classic_test.mplstyle: \n",
      "The mathtext.fallback_to_cm rcparam was deprecated in Matplotlib 3.3 and will be removed two minor releases later.\n",
      "In /home/NOBACKUP/mzhou3/ming_env/ming_env/lib/python3.7/site-packages/matplotlib/mpl-data/stylelib/_classic_test.mplstyle: Support for setting the 'mathtext.fallback_to_cm' rcParam is deprecated since 3.3 and will be removed two minor releases later; use 'mathtext.fallback : 'cm' instead.\n",
      "In /home/NOBACKUP/mzhou3/ming_env/ming_env/lib/python3.7/site-packages/matplotlib/mpl-data/stylelib/_classic_test.mplstyle: \n",
      "The validate_bool_maybe_none function was deprecated in Matplotlib 3.3 and will be removed two minor releases later.\n",
      "In /home/NOBACKUP/mzhou3/ming_env/ming_env/lib/python3.7/site-packages/matplotlib/mpl-data/stylelib/_classic_test.mplstyle: \n",
      "The savefig.jpeg_quality rcparam was deprecated in Matplotlib 3.3 and will be removed two minor releases later.\n",
      "In /home/NOBACKUP/mzhou3/ming_env/ming_env/lib/python3.7/site-packages/matplotlib/mpl-data/stylelib/_classic_test.mplstyle: \n",
      "The keymap.all_axes rcparam was deprecated in Matplotlib 3.3 and will be removed two minor releases later.\n",
      "In /home/NOBACKUP/mzhou3/ming_env/ming_env/lib/python3.7/site-packages/matplotlib/mpl-data/stylelib/_classic_test.mplstyle: \n",
      "The animation.avconv_path rcparam was deprecated in Matplotlib 3.3 and will be removed two minor releases later.\n",
      "In /home/NOBACKUP/mzhou3/ming_env/ming_env/lib/python3.7/site-packages/matplotlib/mpl-data/stylelib/_classic_test.mplstyle: \n",
      "The animation.avconv_args rcparam was deprecated in Matplotlib 3.3 and will be removed two minor releases later.\n"
     ]
    }
   ],
   "source": [
    "%load_ext autoreload\n",
    "%autoreload 2\n",
    "\n",
    "from matplotlib import pyplot as plt\n",
    "from src.blast.complete_blast import blast, DEFAULT_BLAST_ARGS"
   ]
  },
  {
   "cell_type": "code",
   "execution_count": 2,
   "metadata": {},
   "outputs": [
    {
     "data": {
      "text/plain": [
       "{'seed_matching_args': {'seed_matching_algorithm': 'consensus_matching',\n",
       "  'seed_table_file': '/home/NOBACKUP/mzhou3/comp561project/src/data/hashtable.p',\n",
       "  'k': 11},\n",
       " 'ungapped_extension_args': {'nt_score_method': 'sum_proba_score_correct0',\n",
       "  'delta': 1,\n",
       "  'mismatch_score': 1,\n",
       "  'substitution': {}},\n",
       " 'gapped_extension_args': {'nt_score_method': 'sum_proba_score_correct0',\n",
       "  'substitution': {},\n",
       "  'gap_penalty': -1,\n",
       "  'gap_bias': -1,\n",
       "  'mismatch_score': 1,\n",
       "  'ref_max_length_factor': 1}}"
      ]
     },
     "execution_count": 2,
     "metadata": {},
     "output_type": "execute_result"
    }
   ],
   "source": [
    "DEFAULT_BLAST_ARGS"
   ]
  },
  {
   "cell_type": "markdown",
   "metadata": {},
   "source": [
    "# 1. Run blast"
   ]
  },
  {
   "cell_type": "markdown",
   "metadata": {},
   "source": [
    "`blast(query, reference_matrix_file, seed_matching_args, ungapped_extension_args, gapped_extension_args)`\n",
    "- query: query string \n",
    "- reference_matrix_file: reference matrix file path dict\n",
    "- seed_matching_args: first stage - seed matching arguments dict\n",
    "- ungapped_extension_args: second stage - ungapped extension arguments dict\n",
    "- gapped_extension_args: third stage - gapped extension arguments dict"
   ]
  },
  {
   "cell_type": "markdown",
   "metadata": {},
   "source": [
    "Default parameters "
   ]
  },
  {
   "cell_type": "code",
   "execution_count": 3,
   "metadata": {},
   "outputs": [
    {
     "data": {
      "text/plain": [
       "{'seed_matching_args': {'seed_matching_algorithm': 'consensus_matching',\n",
       "  'seed_table_file': '/home/NOBACKUP/mzhou3/comp561project/src/data/hashtable.p',\n",
       "  'k': 11},\n",
       " 'ungapped_extension_args': {'nt_score_method': 'sum_proba_score_correct0',\n",
       "  'delta': 1,\n",
       "  'mismatch_score': 1,\n",
       "  'substitution': {}},\n",
       " 'gapped_extension_args': {'nt_score_method': 'sum_proba_score_correct0',\n",
       "  'substitution': {},\n",
       "  'gap_penalty': -1,\n",
       "  'gap_bias': -1,\n",
       "  'mismatch_score': 1,\n",
       "  'ref_max_length_factor': 1}}"
      ]
     },
     "execution_count": 3,
     "metadata": {},
     "output_type": "execute_result"
    }
   ],
   "source": [
    "DEFAULT_BLAST_ARGS"
   ]
  },
  {
   "cell_type": "markdown",
   "metadata": {},
   "source": [
    "Run one query using default arguments"
   ]
  },
  {
   "cell_type": "code",
   "execution_count": 4,
   "metadata": {},
   "outputs": [],
   "source": [
    "query = 'TAAACCCCGGGCCATATTATGCTGGGAGGCTCACCTCTGTAATGTCGGGGTCTTGGAGGCTGAGGAGGTATTGCTTTGGGGAGTTCAAGCCCAGCCTGGG'\n",
    "reference_matrix_file = 'src/data/reference_matrix.p'\n",
    "label_pos = 360468"
   ]
  },
  {
   "cell_type": "code",
   "execution_count": 5,
   "metadata": {},
   "outputs": [],
   "source": [
    "results = blast(query, reference_matrix_file, **DEFAULT_BLAST_ARGS)"
   ]
  },
  {
   "cell_type": "code",
   "execution_count": 6,
   "metadata": {},
   "outputs": [
    {
     "name": "stdout",
     "output_type": "stream",
     "text": [
      "0  ref_start_idx:360468,   ref_end_idx:360567,    score: 45.113333333333344\n",
      "1  ref_start_idx:360468,   ref_end_idx:360567,    score: 44.37333333333334\n",
      "2  ref_start_idx:360468,   ref_end_idx:360567,    score: 44.37333333333334\n",
      "3  ref_start_idx:360468,   ref_end_idx:360567,    score: 43.55333333333334\n",
      "4  ref_start_idx:360468,   ref_end_idx:360567,    score: 43.27333333333334\n",
      "5  ref_start_idx:360468,   ref_end_idx:360567,    score: 42.413333333333334\n",
      "6  ref_start_idx:360468,   ref_end_idx:360567,    score: 42.31333333333334\n",
      "7  ref_start_idx:264772,   ref_end_idx:264880,    score: -3.8199999999999994\n",
      "8  ref_start_idx:588359,   ref_end_idx:588459,    score: -7.606666666666663\n",
      "9  ref_start_idx:588359,   ref_end_idx:588459,    score: -7.606666666666663\n",
      "10  ref_start_idx:199317,   ref_end_idx:199409,    score: -8.29333333333333\n",
      "11  ref_start_idx:59115,   ref_end_idx:59208,    score: -8.366666666666662\n",
      "12  ref_start_idx:566552,   ref_end_idx:566650,    score: -9.046666666666663\n",
      "13  ref_start_idx:566552,   ref_end_idx:566650,    score: -9.046666666666663\n",
      "14  ref_start_idx:120305,   ref_end_idx:120412,    score: -9.199999999999989\n",
      "15  ref_start_idx:418355,   ref_end_idx:418446,    score: -9.49999999999999\n",
      "16  ref_start_idx:517074,   ref_end_idx:517167,    score: -9.586666666666664\n",
      "17  ref_start_idx:190173,   ref_end_idx:190273,    score: -11.093333333333327\n",
      "18  ref_start_idx:190173,   ref_end_idx:190273,    score: -11.113333333333326\n",
      "19  ref_start_idx:29460,   ref_end_idx:29564,    score: -11.773333333333326\n",
      "20  ref_start_idx:396278,   ref_end_idx:396369,    score: -12.266666666666664\n",
      "21  ref_start_idx:460579,   ref_end_idx:460679,    score: -12.693333333333321\n",
      "22  ref_start_idx:441376,   ref_end_idx:441491,    score: -12.766666666666666\n",
      "23  ref_start_idx:485024,   ref_end_idx:485102,    score: -12.833333333333327\n",
      "24  ref_start_idx:148805,   ref_end_idx:148898,    score: -13.72666666666666\n",
      "25  ref_start_idx:148805,   ref_end_idx:148898,    score: -13.986666666666661\n",
      "26  ref_start_idx:213605,   ref_end_idx:213700,    score: -14.006666666666664\n",
      "27  ref_start_idx:130538,   ref_end_idx:130645,    score: -14.326666666666659\n",
      "28  ref_start_idx:370797,   ref_end_idx:370897,    score: -15.186666666666664\n",
      "29  ref_start_idx:486268,   ref_end_idx:486369,    score: -15.213333333333324\n",
      "30  ref_start_idx:185174,   ref_end_idx:185260,    score: -15.56666666666666\n",
      "31  ref_start_idx:185174,   ref_end_idx:185260,    score: -15.82666666666666\n",
      "32  ref_start_idx:370797,   ref_end_idx:370897,    score: -16.086666666666666\n",
      "33  ref_start_idx:486268,   ref_end_idx:486369,    score: -16.093333333333327\n",
      "34  ref_start_idx:30006,   ref_end_idx:30103,    score: -16.57999999999999\n",
      "35  ref_start_idx:30006,   ref_end_idx:30103,    score: -16.57999999999999\n",
      "36  ref_start_idx:47010,   ref_end_idx:47100,    score: -16.946666666666662\n",
      "37  ref_start_idx:47010,   ref_end_idx:47100,    score: -16.946666666666662\n",
      "38  ref_start_idx:12254,   ref_end_idx:12343,    score: -17.293333333333315\n",
      "39  ref_start_idx:491676,   ref_end_idx:491770,    score: -17.686666666666664\n",
      "40  ref_start_idx:491729,   ref_end_idx:491833,    score: -18.06666666666666\n",
      "41  ref_start_idx:557841,   ref_end_idx:557955,    score: -18.566666666666663\n",
      "42  ref_start_idx:509334,   ref_end_idx:509439,    score: -18.579999999999995\n",
      "43  ref_start_idx:557841,   ref_end_idx:557955,    score: -18.586666666666662\n",
      "44  ref_start_idx:317542,   ref_end_idx:317640,    score: -18.619999999999997\n",
      "45  ref_start_idx:317542,   ref_end_idx:317640,    score: -18.679999999999996\n",
      "46  ref_start_idx:501687,   ref_end_idx:501770,    score: -18.97999999999999\n",
      "47  ref_start_idx:501687,   ref_end_idx:501770,    score: -19.019999999999992\n",
      "48  ref_start_idx:501687,   ref_end_idx:501770,    score: -19.019999999999992\n",
      "49  ref_start_idx:468180,   ref_end_idx:468275,    score: -19.159999999999997\n",
      "50  ref_start_idx:197430,   ref_end_idx:197513,    score: -19.306666666666658\n",
      "51  ref_start_idx:592880,   ref_end_idx:592965,    score: -19.573333333333327\n",
      "52  ref_start_idx:129041,   ref_end_idx:129135,    score: -19.799999999999994\n",
      "53  ref_start_idx:501687,   ref_end_idx:501770,    score: -19.819999999999993\n",
      "54  ref_start_idx:521781,   ref_end_idx:521884,    score: -19.98666666666666\n",
      "55  ref_start_idx:557632,   ref_end_idx:557715,    score: -20.099999999999994\n",
      "56  ref_start_idx:521781,   ref_end_idx:521884,    score: -20.206666666666663\n",
      "57  ref_start_idx:469260,   ref_end_idx:469364,    score: -20.799999999999997\n",
      "58  ref_start_idx:450836,   ref_end_idx:450924,    score: -21.186666666666657\n",
      "59  ref_start_idx:341356,   ref_end_idx:341448,    score: -21.21333333333333\n",
      "60  ref_start_idx:206828,   ref_end_idx:206921,    score: -21.78666666666665\n",
      "61  ref_start_idx:370882,   ref_end_idx:370991,    score: -21.813333333333333\n",
      "62  ref_start_idx:500466,   ref_end_idx:500569,    score: -22.633333333333326\n",
      "63  ref_start_idx:500466,   ref_end_idx:500569,    score: -22.673333333333325\n",
      "64  ref_start_idx:496169,   ref_end_idx:496256,    score: -22.866666666666667\n",
      "65  ref_start_idx:500466,   ref_end_idx:500569,    score: -22.873333333333324\n",
      "66  ref_start_idx:500466,   ref_end_idx:500569,    score: -22.913333333333323\n",
      "67  ref_start_idx:509585,   ref_end_idx:509686,    score: -26.18666666666666\n",
      "68  ref_start_idx:521369,   ref_end_idx:521455,    score: -26.900000000000002\n",
      "69  ref_start_idx:509585,   ref_end_idx:509686,    score: -27.14666666666666\n",
      "70  ref_start_idx:202379,   ref_end_idx:202463,    score: -28.366666666666674\n",
      "71  ref_start_idx:500577,   ref_end_idx:500652,    score: -29.126666666666665\n",
      "72  ref_start_idx:493277,   ref_end_idx:493367,    score: -33.07333333333333\n"
     ]
    }
   ],
   "source": [
    "for idx, out in enumerate(results):\n",
    "    print('{0}  ref_start_idx:{1},   ref_end_idx:{2},    score: {3}'.format(idx,\n",
    "                                                                            out['final_result']['ref_left_idx'],\n",
    "                                                                            out['final_result']['ref_right_idx'],\n",
    "                                                                            out['final_result']['score']))\n"
   ]
  },
  {
   "cell_type": "markdown",
   "metadata": {},
   "source": [
    "# 2. Run individual steps"
   ]
  },
  {
   "cell_type": "code",
   "execution_count": 7,
   "metadata": {},
   "outputs": [],
   "source": [
    "import pickle\n",
    "from src.blast.hashtable_generation_inference import consensus_seq_match\n",
    "from src.blast.ungapped_extension import ungapped_extension\n",
    "from src.blast.gapped_extension_j_mingmodified import gapped_extension\n"
   ]
  },
  {
   "cell_type": "markdown",
   "metadata": {},
   "source": [
    "## 2.1 seed matching"
   ]
  },
  {
   "cell_type": "markdown",
   "metadata": {},
   "source": [
    "`consensus_seq_match(table_data, query)`\n",
    "- table_data: seed table data \n",
    "- query: the query string "
   ]
  },
  {
   "cell_type": "code",
   "execution_count": 8,
   "metadata": {},
   "outputs": [],
   "source": [
    "table_data = pickle.load(open('src/data/hashtable.p','rb'))\n",
    "outputs_step1 = consensus_seq_match(table_data, query)\n"
   ]
  },
  {
   "cell_type": "markdown",
   "metadata": {},
   "source": [
    "## 2.2 ungapped extension"
   ]
  },
  {
   "cell_type": "markdown",
   "metadata": {},
   "source": [
    "`ungapped_extension(query, matches_dict, reference_matrix_file, k, delta,\n",
    "                       score_method, mismatch_score=1, substitution=dict())`\n",
    "- query: query string \n",
    "- matches_dict: result from stage 1 \n",
    "- reference_matrix_file: reference matrix file \n",
    "- k: seed size k \n",
    "- delta: ungapped extention threshold \n",
    "- score_method: nucleotide level scoring function \n",
    "- mismatch_score: argument for nucleotide level score \n",
    "- substitution: argument for nucleotide level score"
   ]
  },
  {
   "cell_type": "code",
   "execution_count": 9,
   "metadata": {
    "scrolled": true
   },
   "outputs": [
    {
     "name": "stdout",
     "output_type": "stream",
     "text": [
      "0: seed correct True,   score 7.33 ,   span 24  \n",
      "1: seed correct True,   score 6.42 ,   span 27  \n",
      "2: seed correct True,   score 5.68 ,   span 27  \n",
      "3: seed correct True,   score 5.68 ,   span 27  \n",
      "4: seed correct True,   score 4.86 ,   span 27  \n",
      "5: seed correct True,   score 4.58 ,   span 27  \n",
      "6: seed correct True,   score 3.62 ,   span 27  \n",
      "7: seed correct False,   score 2.92 ,   span 14  \n",
      "8: seed correct False,   score 2.92 ,   span 14  \n",
      "9: seed correct False,   score 2.88 ,   span 14  \n",
      "10: seed correct False,   score 2.88 ,   span 14  \n",
      "11: seed correct False,   score 2.88 ,   span 14  \n",
      "12: seed correct False,   score 2.68 ,   span 14  \n",
      "13: seed correct False,   score 2.64 ,   span 14  \n",
      "14: seed correct False,   score 2.08 ,   span 14  \n",
      "15: seed correct False,   score 1.97 ,   span 17  \n",
      "16: seed correct False,   score 1.59 ,   span 20  \n",
      "17: seed correct False,   score 0.98 ,   span 12  \n",
      "18: seed correct False,   score 0.98 ,   span 12  \n",
      "19: seed correct False,   score 0.98 ,   span 12  \n",
      "20: seed correct False,   score 0.96 ,   span 12  \n",
      "21: seed correct False,   score 0.96 ,   span 12  \n",
      "22: seed correct False,   score 0.96 ,   span 12  \n",
      "23: seed correct False,   score 0.96 ,   span 12  \n",
      "24: seed correct False,   score 0.96 ,   span 12  \n",
      "25: seed correct False,   score 0.96 ,   span 12  \n",
      "26: seed correct False,   score 0.96 ,   span 12  \n",
      "27: seed correct False,   score 0.96 ,   span 12  \n",
      "28: seed correct False,   score 0.96 ,   span 12  \n",
      "29: seed correct False,   score 0.96 ,   span 12  \n",
      "30: seed correct False,   score 0.96 ,   span 12  \n",
      "31: seed correct False,   score 0.96 ,   span 12  \n",
      "32: seed correct False,   score 0.96 ,   span 12  \n",
      "33: seed correct False,   score 0.96 ,   span 12  \n",
      "34: seed correct False,   score 0.96 ,   span 12  \n",
      "35: seed correct False,   score 0.93 ,   span 14  \n",
      "36: seed correct False,   score 0.74 ,   span 12  \n",
      "37: seed correct False,   score 0.7000000000000001 ,   span 12  \n",
      "38: seed correct False,   score 0.7000000000000001 ,   span 12  \n",
      "39: seed correct False,   score 0.66 ,   span 16  \n",
      "40: seed correct False,   score 0.22 ,   span 12  \n",
      "41: seed correct False,   score 0.16 ,   span 12  \n",
      "42: seed correct False,   score 0.08 ,   span 12  \n",
      "43: seed correct False,   score 0.08 ,   span 12  \n",
      "44: seed correct False,   score 0.0 ,   span 11  \n",
      "45: seed correct False,   score 0.0 ,   span 11  \n",
      "46: seed correct False,   score 0.0 ,   span 11  \n",
      "47: seed correct False,   score 0.0 ,   span 11  \n",
      "48: seed correct False,   score 0.0 ,   span 11  \n",
      "49: seed correct False,   score 0.0 ,   span 11  \n",
      "50: seed correct False,   score 0.0 ,   span 11  \n",
      "51: seed correct False,   score 0.0 ,   span 11  \n",
      "52: seed correct False,   score 0.0 ,   span 11  \n",
      "53: seed correct False,   score 0.0 ,   span 11  \n",
      "54: seed correct False,   score 0.0 ,   span 11  \n",
      "55: seed correct False,   score 0.0 ,   span 11  \n",
      "56: seed correct False,   score 0.0 ,   span 11  \n",
      "57: seed correct False,   score 0.0 ,   span 11  \n",
      "58: seed correct False,   score 0.0 ,   span 11  \n",
      "59: seed correct False,   score 0.0 ,   span 11  \n",
      "60: seed correct False,   score 0.0 ,   span 11  \n",
      "61: seed correct False,   score 0.0 ,   span 11  \n",
      "62: seed correct False,   score 0.0 ,   span 11  \n",
      "63: seed correct False,   score 0.0 ,   span 11  \n",
      "64: seed correct False,   score 0.0 ,   span 11  \n",
      "65: seed correct False,   score 0.0 ,   span 11  \n",
      "66: seed correct False,   score 0.0 ,   span 11  \n",
      "67: seed correct False,   score 0.0 ,   span 11  \n",
      "68: seed correct False,   score 0.0 ,   span 11  \n",
      "69: seed correct False,   score 0.0 ,   span 11  \n",
      "70: seed correct False,   score 0.0 ,   span 11  \n",
      "71: seed correct False,   score 0.0 ,   span 11  \n",
      "72: seed correct False,   score 0.0 ,   span 11  \n"
     ]
    }
   ],
   "source": [
    "outputs_step2 = ungapped_extension(query, outputs_step1, 'src/data/reference_matrix.p', 11, 1, 'sum_proba_score_correct0')\n",
    "outputs_step2 = sorted(outputs_step2, key=lambda x:x['ungapped_extension_result']['score'] * -1)\n",
    "\n",
    "for idx, entry in enumerate(outputs_step2):\n",
    "    \n",
    "    seed_correct = (entry['seed_matching_result']['query_idx'] + label_pos) == entry['seed_matching_result']['ref_idx']\n",
    "    score = entry['ungapped_extension_result']['score']\n",
    "    span = entry['ungapped_extension_result']['query_right_idx']  - entry['ungapped_extension_result']['query_left_idx'] + 1\n",
    "    print('{3}: seed correct {0},   score {1} ,   span {2}  '.format(seed_correct, float(round(score,2)), span, idx))"
   ]
  },
  {
   "cell_type": "markdown",
   "metadata": {},
   "source": [
    "## 2.3 gapped extension"
   ]
  },
  {
   "cell_type": "markdown",
   "metadata": {},
   "source": [
    "`gapped_extension(query, reference, ungapped_dict, score_method,\n",
    "                     substitution_dict, gap_penalty, gap_bias, mismatch_score, ref_max_length_factor)`\n",
    "- query: query string\n",
    "- reference: reference matrix file path \n",
    "- ungapped_dict: results from step 2 \n",
    "- score_method:  nucleotide level scoring method \n",
    "- substitution_dict: substitution_dict in NW algorithm \n",
    "- gap_penalty:   in NW gap penalty\n",
    "- gap_bias: in NW open gap penalty\n",
    "- mismatch_score:   nt level scoring method mis match score \n",
    "- ref_max_length_factor:  FACTOR * query length of the reference will be aligned"
   ]
  },
  {
   "cell_type": "code",
   "execution_count": 10,
   "metadata": {},
   "outputs": [],
   "source": [
    "outputs_step3 = gapped_extension(query, 'src/data/reference_matrix.p', outputs_step2, 'sum_proba_score', {}, -1, -1, 1, 1)\n"
   ]
  },
  {
   "cell_type": "code",
   "execution_count": 11,
   "metadata": {
    "scrolled": true
   },
   "outputs": [
    {
     "name": "stdout",
     "output_type": "stream",
     "text": [
      "0  ref_start_idx:360468,   ref_end_idx:360567,    score: 42.25333333333334\n",
      "1  ref_start_idx:360468,   ref_end_idx:360567,    score: 45.013333333333335\n",
      "2  ref_start_idx:360468,   ref_end_idx:360567,    score: 44.27333333333334\n",
      "3  ref_start_idx:360468,   ref_end_idx:360567,    score: 44.27333333333334\n",
      "4  ref_start_idx:360468,   ref_end_idx:360567,    score: 43.45333333333334\n",
      "5  ref_start_idx:360468,   ref_end_idx:360567,    score: 43.17333333333334\n",
      "6  ref_start_idx:360468,   ref_end_idx:360567,    score: 42.21333333333334\n",
      "7  ref_start_idx:500466,   ref_end_idx:500569,    score: -22.753333333333323\n",
      "8  ref_start_idx:501668,   ref_end_idx:501770,    score: -18.980000000000004\n",
      "9  ref_start_idx:500466,   ref_end_idx:500569,    score: -22.793333333333326\n",
      "10  ref_start_idx:501668,   ref_end_idx:501770,    score: -19.020000000000007\n",
      "11  ref_start_idx:501668,   ref_end_idx:501770,    score: -19.020000000000007\n",
      "12  ref_start_idx:500466,   ref_end_idx:500569,    score: -22.993333333333325\n",
      "13  ref_start_idx:500466,   ref_end_idx:500569,    score: -23.033333333333324\n",
      "14  ref_start_idx:501668,   ref_end_idx:501770,    score: -19.820000000000007\n",
      "15  ref_start_idx:592880,   ref_end_idx:592965,    score: -19.573333333333327\n",
      "16  ref_start_idx:517074,   ref_end_idx:517167,    score: -9.686666666666664\n",
      "17  ref_start_idx:557841,   ref_end_idx:557955,    score: -18.74666666666667\n",
      "18  ref_start_idx:370797,   ref_end_idx:370897,    score: -15.26666666666667\n",
      "19  ref_start_idx:190173,   ref_end_idx:190273,    score: -11.093333333333327\n",
      "20  ref_start_idx:566552,   ref_end_idx:566650,    score: -9.046666666666663\n",
      "21  ref_start_idx:588359,   ref_end_idx:588459,    score: -7.666666666666663\n",
      "22  ref_start_idx:185174,   ref_end_idx:185260,    score: -15.56666666666666\n",
      "23  ref_start_idx:566552,   ref_end_idx:566650,    score: -9.046666666666663\n",
      "24  ref_start_idx:588359,   ref_end_idx:588459,    score: -7.666666666666663\n",
      "25  ref_start_idx:47010,   ref_end_idx:47100,    score: -16.946666666666662\n",
      "26  ref_start_idx:47010,   ref_end_idx:47100,    score: -16.946666666666662\n",
      "27  ref_start_idx:30006,   ref_end_idx:30103,    score: -16.67999999999999\n",
      "28  ref_start_idx:30006,   ref_end_idx:30103,    score: -16.67999999999999\n",
      "29  ref_start_idx:148805,   ref_end_idx:148898,    score: -13.746666666666659\n",
      "30  ref_start_idx:509585,   ref_end_idx:509686,    score: -26.30666666666666\n",
      "31  ref_start_idx:557841,   ref_end_idx:557955,    score: -18.76666666666667\n",
      "32  ref_start_idx:190173,   ref_end_idx:190273,    score: -11.113333333333326\n",
      "33  ref_start_idx:521781,   ref_end_idx:521884,    score: -20.02666666666666\n",
      "34  ref_start_idx:486268,   ref_end_idx:486369,    score: -15.213333333333324\n",
      "35  ref_start_idx:418355,   ref_end_idx:418446,    score: -9.49999999999999\n",
      "36  ref_start_idx:521781,   ref_end_idx:521884,    score: -20.246666666666663\n",
      "37  ref_start_idx:185174,   ref_end_idx:185260,    score: -15.82666666666666\n",
      "38  ref_start_idx:148805,   ref_end_idx:148898,    score: -14.00666666666666\n",
      "39  ref_start_idx:469260,   ref_end_idx:469364,    score: -20.839999999999996\n",
      "40  ref_start_idx:317542,   ref_end_idx:317640,    score: -18.639999999999997\n",
      "41  ref_start_idx:317542,   ref_end_idx:317640,    score: -18.699999999999996\n",
      "42  ref_start_idx:370797,   ref_end_idx:370897,    score: -16.16666666666667\n",
      "43  ref_start_idx:486268,   ref_end_idx:486369,    score: -16.093333333333327\n",
      "44  ref_start_idx:12254,   ref_end_idx:12343,    score: -17.293333333333315\n",
      "45  ref_start_idx:199317,   ref_end_idx:199409,    score: -8.29333333333333\n",
      "46  ref_start_idx:59115,   ref_end_idx:59208,    score: -8.366666666666662\n",
      "47  ref_start_idx:493277,   ref_end_idx:493367,    score: -33.07333333333333\n",
      "48  ref_start_idx:341356,   ref_end_idx:341448,    score: -21.21333333333333\n",
      "49  ref_start_idx:29460,   ref_end_idx:29564,    score: -11.793333333333328\n",
      "50  ref_start_idx:491676,   ref_end_idx:491770,    score: -17.746666666666663\n",
      "51  ref_start_idx:213605,   ref_end_idx:213700,    score: -14.006666666666664\n",
      "52  ref_start_idx:202379,   ref_end_idx:202463,    score: -28.706666666666674\n",
      "53  ref_start_idx:370882,   ref_end_idx:370991,    score: -21.973333333333333\n",
      "54  ref_start_idx:441376,   ref_end_idx:441491,    score: -12.906666666666665\n",
      "55  ref_start_idx:491729,   ref_end_idx:491833,    score: -18.10666666666666\n",
      "56  ref_start_idx:496169,   ref_end_idx:496256,    score: -22.986666666666665\n",
      "57  ref_start_idx:500577,   ref_end_idx:500652,    score: -29.506666666666664\n",
      "58  ref_start_idx:509334,   ref_end_idx:509439,    score: -18.659999999999997\n",
      "59  ref_start_idx:509585,   ref_end_idx:509686,    score: -27.266666666666662\n",
      "60  ref_start_idx:521369,   ref_end_idx:521455,    score: -26.94\n",
      "61  ref_start_idx:468175,   ref_end_idx:468275,    score: -19.426666666666662\n",
      "62  ref_start_idx:197430,   ref_end_idx:197513,    score: -19.426666666666655\n",
      "63  ref_start_idx:460579,   ref_end_idx:460679,    score: -12.693333333333321\n",
      "64  ref_start_idx:129041,   ref_end_idx:129135,    score: -19.819999999999997\n",
      "65  ref_start_idx:206828,   ref_end_idx:206921,    score: -21.92666666666665\n",
      "66  ref_start_idx:264772,   ref_end_idx:264880,    score: -3.8199999999999994\n",
      "67  ref_start_idx:396278,   ref_end_idx:396369,    score: -12.346666666666666\n",
      "68  ref_start_idx:450836,   ref_end_idx:450924,    score: -21.186666666666657\n",
      "69  ref_start_idx:485024,   ref_end_idx:485102,    score: -12.833333333333327\n",
      "70  ref_start_idx:120305,   ref_end_idx:120412,    score: -9.199999999999989\n",
      "71  ref_start_idx:130538,   ref_end_idx:130645,    score: -14.326666666666659\n",
      "72  ref_start_idx:557632,   ref_end_idx:557715,    score: -20.099999999999994\n"
     ]
    }
   ],
   "source": [
    "for idx, out in enumerate(outputs_step3):\n",
    "    print('{0}  ref_start_idx:{1},   ref_end_idx:{2},    score: {3}'.format(idx,\n",
    "                                                                            out['final_result']['ref_left_idx'],\n",
    "                                                                            out['final_result']['ref_right_idx'],\n",
    "                                                                            out['final_result']['score']))\n"
   ]
  },
  {
   "cell_type": "markdown",
   "metadata": {},
   "source": [
    "# 3. Evaluation full"
   ]
  },
  {
   "cell_type": "markdown",
   "metadata": {},
   "source": [
    "evaluate single result"
   ]
  },
  {
   "cell_type": "code",
   "execution_count": 12,
   "metadata": {},
   "outputs": [],
   "source": [
    "from src.blast.eval import compute_performance"
   ]
  },
  {
   "cell_type": "markdown",
   "metadata": {},
   "source": [
    "`compute_performance(correct_range, outputs)`\n",
    "- correct_range: correct range of the reference\n",
    "- outputs: raw outputs from blast algorithm "
   ]
  },
  {
   "cell_type": "code",
   "execution_count": 13,
   "metadata": {},
   "outputs": [],
   "source": [
    "correct_range = 360468, 360468+99"
   ]
  },
  {
   "cell_type": "code",
   "execution_count": 14,
   "metadata": {},
   "outputs": [
    {
     "data": {
      "text/plain": [
       "{'relevant_irelevant_auc': 1.0,\n",
       " 'top1_iou': 1.0,\n",
       " 'top5_iou': 1.0,\n",
       " 'top10_iou': 1.0,\n",
       " 'seed_match_rate': 0.07777777777777778}"
      ]
     },
     "execution_count": 14,
     "metadata": {},
     "output_type": "execute_result"
    }
   ],
   "source": [
    "compute_performance(correct_range, results)"
   ]
  },
  {
   "cell_type": "code",
   "execution_count": null,
   "metadata": {},
   "outputs": [],
   "source": []
  }
 ],
 "metadata": {
  "kernelspec": {
   "display_name": "Python [conda env:ming_env] *",
   "language": "python",
   "name": "conda-env-ming_env-py"
  },
  "language_info": {
   "codemirror_mode": {
    "name": "ipython",
    "version": 3
   },
   "file_extension": ".py",
   "mimetype": "text/x-python",
   "name": "python",
   "nbconvert_exporter": "python",
   "pygments_lexer": "ipython3",
   "version": "3.7.11"
  }
 },
 "nbformat": 4,
 "nbformat_minor": 4
}
