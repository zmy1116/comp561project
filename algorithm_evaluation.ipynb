{
 "cells": [
  {
   "cell_type": "code",
   "execution_count": 1,
   "metadata": {},
   "outputs": [],
   "source": [
    "%load_ext autoreload\n",
    "%autoreload 2\n",
    "    \n",
    "\n",
    "import pickle\n",
    "import numpy as np \n",
    "from matplotlib import pyplot as plt\n",
    "import itertools\n",
    "\n",
    "from src.utils.generate_query import generate_queries\n",
    "from src.blast.hashtable_generation_inference import consensus_seq_match"
   ]
  },
  {
   "cell_type": "code",
   "execution_count": 2,
   "metadata": {},
   "outputs": [],
   "source": [
    "def moving_average(a, n=3) :\n",
    "    ret = np.cumsum(a, dtype=float)\n",
    "    ret[n:] = ret[n:] - ret[:-n]\n",
    "    return ret[n - 1:] / n"
   ]
  },
  {
   "cell_type": "code",
   "execution_count": 3,
   "metadata": {},
   "outputs": [],
   "source": [
    "reference_matrix = pickle.load(open('src/data/reference_matrix.p', 'rb'))"
   ]
  },
  {
   "cell_type": "markdown",
   "metadata": {},
   "source": [
    "# Examples generations"
   ]
  },
  {
   "cell_type": "markdown",
   "metadata": {},
   "source": [
    "Generate easy/hard cases of length 100:\n",
    "\n",
    "- very hard case: the max probability is less than 0.7\n",
    "- hard case: the max probabiity is between 0.7 and 0.8\n",
    "- intermediate case: the max probability is between 0.8 and 0.9\n",
    "- easy case: the max probability is larger than 0.9\n",
    "\n",
    "For each case, randomly select 100 position, sample 100 sequences over each position"
   ]
  },
  {
   "cell_type": "code",
   "execution_count": 4,
   "metadata": {},
   "outputs": [],
   "source": [
    "\n",
    "max_prob_reference_matrix = np.max(reference_matrix, axis=1)\n",
    "max_probs_ma = moving_average(max_prob_reference_matrix, 100)\n",
    "\n",
    "\n",
    "\n",
    "very_hard_cases = np.where(max_probs_ma < 0.7)[0]\n",
    "hard_cases = np.where((max_probs_ma >= 0.7)&(max_probs_ma < 0.8))[0]\n",
    "intermediate_cases = np.where((max_probs_ma >= 0.8)&(max_probs_ma < 0.9))[0]\n",
    "easy_cases = np.where(max_probs_ma >= 0.9)[0]"
   ]
  },
  {
   "cell_type": "code",
   "execution_count": 5,
   "metadata": {},
   "outputs": [],
   "source": [
    "very_hard_examples = list(very_hard_cases)\n",
    "\n",
    "np.random.shuffle(hard_cases)\n",
    "hard_examples = list(hard_cases[:100])\n",
    "\n",
    "np.random.shuffle(intermediate_cases)\n",
    "intermediate_examples = list(intermediate_cases[:100])\n",
    "\n",
    "np.random.shuffle(easy_cases)\n",
    "easy_examples = list(easy_cases[:100])\n",
    "\n",
    "very_hard_examples = generate_queries(reference_matrix, 100,  very_hard_examples, 100)\n",
    "hard_examples = generate_queries(reference_matrix, 100,  hard_examples, 100)\n",
    "intermediate_examples = generate_queries(reference_matrix, 100,  intermediate_examples, 100)\n",
    "easy_examples = generate_queries(reference_matrix, 100,  easy_examples, 100)"
   ]
  },
  {
   "cell_type": "markdown",
   "metadata": {},
   "source": [
    "# Evalutation of baseline algorithm"
   ]
  },
  {
   "cell_type": "markdown",
   "metadata": {},
   "source": [
    "## 1. Evaluate seed hitting"
   ]
  },
  {
   "cell_type": "markdown",
   "metadata": {},
   "source": [
    "To evaluate seed hitting, given seed lengh = 11, a query of length 100 have 90 chance to hit the reference sequence\n",
    "\n",
    "hit rate per sequence = # of hits / 90\n"
   ]
  },
  {
   "cell_type": "code",
   "execution_count": 6,
   "metadata": {},
   "outputs": [
    {
     "ename": "FileNotFoundError",
     "evalue": "[Errno 2] No such file or directory: 'src/data/hashtable.p'",
     "output_type": "error",
     "traceback": [
      "\u001b[0;31m---------------------------------------------------------------------------\u001b[0m",
      "\u001b[0;31mFileNotFoundError\u001b[0m                         Traceback (most recent call last)",
      "\u001b[0;32m/var/folders/1p/clp59t2s3hq2h1jhhgrxlh4h0000gn/T/ipykernel_1142/3222271578.py\u001b[0m in \u001b[0;36m<module>\u001b[0;34m\u001b[0m\n\u001b[0;32m----> 1\u001b[0;31m \u001b[0mtable_data\u001b[0m \u001b[0;34m=\u001b[0m \u001b[0mpickle\u001b[0m\u001b[0;34m.\u001b[0m\u001b[0mload\u001b[0m\u001b[0;34m(\u001b[0m\u001b[0mopen\u001b[0m\u001b[0;34m(\u001b[0m\u001b[0;34m'src/data/hashtable.p'\u001b[0m\u001b[0;34m,\u001b[0m\u001b[0;34m'rb'\u001b[0m\u001b[0;34m)\u001b[0m\u001b[0;34m)\u001b[0m\u001b[0;34m\u001b[0m\u001b[0;34m\u001b[0m\u001b[0m\n\u001b[0m",
      "\u001b[0;31mFileNotFoundError\u001b[0m: [Errno 2] No such file or directory: 'src/data/hashtable.p'"
     ]
    }
   ],
   "source": [
    "table_data = pickle.load(open('src/data/hashtable.p','rb'))"
   ]
  },
  {
   "cell_type": "code",
   "execution_count": null,
   "metadata": {},
   "outputs": [],
   "source": [
    "def seed_hit_evalutation(examples, table_data):\n",
    "    \n",
    "    results = []\n",
    "    for entry in examples:\n",
    "\n",
    "        label_pos = entry['pos']\n",
    "        query = entry['query']    \n",
    "        output = consensus_seq_match(table_data, query)\n",
    "        entry['seed_result'] = output\n",
    "        match_num = 0\n",
    "        for d in output:\n",
    "            expected_match = d['query_idx']+ label_pos \n",
    "            match= expected_match in d['db_indices']\n",
    "            if match:\n",
    "                match_num += 1    \n",
    "        acc = match_num / 90\n",
    "        results.append(acc)\n",
    "    return results\n"
   ]
  },
  {
   "cell_type": "code",
   "execution_count": null,
   "metadata": {},
   "outputs": [],
   "source": [
    "easy_acc = seed_hit_evalutation(easy_examples, table_data)\n",
    "intermediate_acc = seed_hit_evalutation(intermediate_examples, table_data)\n",
    "hard_acc = seed_hit_evalutation(hard_examples, table_data)\n",
    "very_hard_acc = seed_hit_evalutation(very_hard_examples, table_data)"
   ]
  },
  {
   "cell_type": "code",
   "execution_count": null,
   "metadata": {},
   "outputs": [],
   "source": [
    "data = [\n",
    "    len([x for x in very_hard_acc if x==0]) /len(very_hard_acc), \n",
    "    len([x for x in hard_acc if x==0]) /len(very_hard_acc), \n",
    "    len([x for x in intermediate_acc if x==0]) /len(very_hard_acc), \n",
    "    len([x for x in easy_acc if x==0]) /len(very_hard_acc)\n",
    "]"
   ]
  },
  {
   "cell_type": "code",
   "execution_count": null,
   "metadata": {},
   "outputs": [],
   "source": [
    "objects = ('Very Hard', 'Hard', 'Intermediate', 'Easy')\n",
    "y_pos = np.arange(len(objects))\n",
    "performance = data\n",
    "\n",
    "plt.bar(y_pos, performance, align='center', alpha=0.5)\n",
    "plt.xticks(y_pos, objects)\n",
    "plt.ylabel('%')\n",
    "plt.title('0-hit cases')\n",
    "\n",
    "plt.show()\n"
   ]
  },
  {
   "cell_type": "code",
   "execution_count": null,
   "metadata": {},
   "outputs": [],
   "source": [
    "data = [very_hard_acc, hard_acc, intermediate_acc, easy_acc]\n",
    "plt.boxplot(data)\n",
    "plt.xticks([1,2,3,4], ['Very Hard', 'Hard', 'Intermediate', 'Easy'])\n",
    "plt.title('Seed hit rate box plot')\n",
    "plt.show()"
   ]
  },
  {
   "cell_type": "markdown",
   "metadata": {},
   "source": [
    "## 2. Evaluate ungapped extention"
   ]
  },
  {
   "cell_type": "markdown",
   "metadata": {},
   "source": [
    "this section can be evaluated independent of the seed hitting performance\n",
    "\n",
    "for each query, we assume perfect seed hitting: every query has 90 hits at correct position, so for each sequence we do 90 ungapped extention, compute extention length"
   ]
  },
  {
   "cell_type": "code",
   "execution_count": null,
   "metadata": {},
   "outputs": [],
   "source": [
    "from src.blast.ungapped_extension import ungapped_extension, UNGAPPED_SCORE_ALGORITHM"
   ]
  },
  {
   "cell_type": "code",
   "execution_count": null,
   "metadata": {},
   "outputs": [],
   "source": [
    "from src.utils.utils import sequence_one_hot\n"
   ]
  },
  {
   "cell_type": "code",
   "execution_count": null,
   "metadata": {},
   "outputs": [],
   "source": [
    "all_data = []\n",
    "for idx, example  in enumerate(intermediate_examples):\n",
    "\n",
    "    query = example['query']\n",
    "    label_pos = example['pos']\n",
    "    entry = [\n",
    "        {'query_idx':idx, 'db_indices': [idx+label_pos]} for \n",
    "        idx in range(90)\n",
    "    ]\n",
    "    data = sum(list(ungapped_extension(query, entry, 'src/data/reference_matrix.p', 11, 1, 'sum_proba_score').values()), [])\n",
    "    all_data.append(data)\n",
    "all_data = list(itertools.chain(*all_data))\n",
    "intermediate_gap_coverage = [x[0][1]-x[0][0]+1 for x in all_data]"
   ]
  },
  {
   "cell_type": "code",
   "execution_count": null,
   "metadata": {},
   "outputs": [],
   "source": [
    "def evaluate_ungapped_extenison(examples, delta=1, use_seed_result=False):\n",
    "    \n",
    "    all_data = []\n",
    "    for idx, example  in enumerate(examples):\n",
    "\n",
    "        query = example['query']\n",
    "        label_pos = example['pos']\n",
    "        if not use_seed_result:\n",
    "            seed_result = [\n",
    "                {'query_idx':idx, 'db_indices': [idx+label_pos]} for \n",
    "                idx in range(90)\n",
    "            ]\n",
    "        else:\n",
    "            seed_result = example['seed_result']\n",
    "        data = sum(list(ungapped_extension(query, seed_result, 'src/data/reference_matrix.p', 11, delta, 'sum_proba_score').values()), [])\n",
    "        \n",
    "        if use_seed_result:\n",
    "            key = 'original'\n",
    "        else:\n",
    "            key= 'simulated'\n",
    "        example['ungapped_extension_result_{0}_delta_{1}'.format(key, delta)] = data\n",
    "        all_data.append(data)\n",
    "    all_data = list(itertools.chain(*all_data))\n",
    "    ungapped_coverage = [x[0][1]-x[0][0]+1 for x in all_data]\n",
    "    return ungapped_coverage"
   ]
  },
  {
   "cell_type": "code",
   "execution_count": null,
   "metadata": {},
   "outputs": [],
   "source": [
    "\n",
    "very_hard_ungapped_coverage = evaluate_ungapped_extenison(very_hard_examples)\n",
    "hard_ungapped_coverage = evaluate_ungapped_extenison(hard_examples)\n",
    "intermediate_ungapped_coverage = evaluate_ungapped_extenison(intermediate_examples)\n",
    "easy_ungapped_coverage = evaluate_ungapped_extenison(easy_examples)"
   ]
  },
  {
   "cell_type": "code",
   "execution_count": null,
   "metadata": {},
   "outputs": [],
   "source": [
    "data = [very_hard_ungapped_coverage, hard_ungapped_coverage, intermediate_ungapped_coverage, easy_ungapped_coverage]\n",
    "plt.boxplot(data)\n",
    "plt.xticks([1,2,3,4], ['Very Hard', 'Hard', 'Intermediate', 'Easy'])\n",
    "\n",
    "plt.title('Ungapped extention coverage')\n",
    "plt.show()"
   ]
  },
  {
   "cell_type": "code",
   "execution_count": null,
   "metadata": {},
   "outputs": [],
   "source": [
    "_ = evaluate_ungapped_extenison(very_hard_examples, use_seed_result=True)\n",
    "_ = evaluate_ungapped_extenison(hard_examples, use_seed_result=True)\n",
    "_ = evaluate_ungapped_extenison(intermediate_examples, use_seed_result=True)\n",
    "_ = evaluate_ungapped_extenison(easy_examples, use_seed_result=True)"
   ]
  },
  {
   "cell_type": "markdown",
   "metadata": {},
   "source": [
    "Evaluate ungapped extention using matches computed from step 1"
   ]
  },
  {
   "cell_type": "code",
   "execution_count": null,
   "metadata": {},
   "outputs": [],
   "source": [
    "very_hard_examples_coverage2 = []\n",
    "for example in very_hard_examples:\n",
    "    range1 = (example['pos'] , example['pos']+100)\n",
    "    for entry in example['ungapped_extension_result_original_delta_1']:\n",
    "        range2 = entry[0]\n",
    "        overlap = compute_overlap(range1, range2)\n",
    "        if overlap >0 :\n",
    "            very_hard_examples_coverage2.append(overlap)\n",
    "            \n",
    "hard_examples_coverage2 = []\n",
    "for example in hard_examples:\n",
    "    range1 = (example['pos'] , example['pos']+100)\n",
    "    for entry in example['ungapped_extension_result_original_delta_1']:\n",
    "        range2 = entry[0]\n",
    "        overlap = compute_overlap(range1, range2)\n",
    "        if overlap >0 :\n",
    "            hard_examples_coverage2.append(overlap)\n",
    "    \n",
    "intermediate_examples_coverage2 = []\n",
    "for example in intermediate_examples:\n",
    "    range1 = (example['pos'] , example['pos']+100)\n",
    "    for entry in example['ungapped_extension_result_original_delta_1']:\n",
    "        range2 = entry[0]\n",
    "        overlap = compute_overlap(range1, range2)\n",
    "        if overlap >0 :\n",
    "            intermediate_examples_coverage2.append(overlap)\n",
    "            \n",
    "easy_examples_coverage2 = []\n",
    "for example in easy_examples:\n",
    "    range1 = (example['pos'] , example['pos']+100)\n",
    "    for entry in example['ungapped_extension_result_original_delta_1']:\n",
    "        range2 = entry[0]\n",
    "        overlap = compute_overlap(range1, range2)\n",
    "        if overlap >0 :\n",
    "            easy_examples_coverage2.append(overlap)"
   ]
  },
  {
   "cell_type": "code",
   "execution_count": null,
   "metadata": {},
   "outputs": [],
   "source": [
    "def compute_overlap(range1, range2):\n",
    "    \n",
    "    overlap = min(range1[1], range2[1]) - max(range1[0], range2[0])\n",
    "    overlap = max(overlap, 0)\n",
    "    return overlap"
   ]
  },
  {
   "cell_type": "code",
   "execution_count": null,
   "metadata": {},
   "outputs": [],
   "source": [
    "data = [very_hard_examples_coverage2, hard_examples_coverage2, intermediate_examples_coverage2, easy_examples_coverage2]\n",
    "plt.boxplot(data)\n",
    "\n",
    "plt.title('Ungapped extention coverage')\n",
    "plt.show()"
   ]
  },
  {
   "cell_type": "code",
   "execution_count": null,
   "metadata": {},
   "outputs": [],
   "source": []
  }
 ],
 "metadata": {
  "kernelspec": {
   "display_name": "Python 3 (ipykernel)",
   "language": "python",
   "name": "python3"
  },
  "language_info": {
   "codemirror_mode": {
    "name": "ipython",
    "version": 3
   },
   "file_extension": ".py",
   "mimetype": "text/x-python",
   "name": "python",
   "nbconvert_exporter": "python",
   "pygments_lexer": "ipython3",
   "version": "3.9.7"
  }
 },
 "nbformat": 4,
 "nbformat_minor": 4
}
